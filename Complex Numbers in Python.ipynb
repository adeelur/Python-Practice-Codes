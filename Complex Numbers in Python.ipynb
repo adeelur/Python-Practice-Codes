{
 "cells": [
  {
   "cell_type": "markdown",
   "id": "4a9d1e3d-85c7-49ce-8df4-e2f871e0374d",
   "metadata": {},
   "source": [
    "# Complex Numbers"
   ]
  },
  {
   "cell_type": "markdown",
   "id": "8158d278-c2f8-44ab-a60d-7d34651939c2",
   "metadata": {},
   "source": [
    "Complex numbers are x+iy where x and y are real numbers"
   ]
  },
  {
   "cell_type": "markdown",
   "id": "cb33c111-e054-4014-a468-3a812eb12fe7",
   "metadata": {},
   "source": [
    "## Method"
   ]
  },
  {
   "cell_type": "markdown",
   "id": "78c272b9-a70b-4cd3-9049-ce990ee9322e",
   "metadata": {},
   "source": [
    "Import cmath library.\n",
    "\n",
    "Use Complex(x,y) method to make a complex number such as z=complex(x,y).\n",
    "\n",
    "we can print real and imaginary part of complex number as z.real and z.imag.\n",
    "\n",
    "To calculate the phase of z, use phase() method.\n",
    "\n",
    "To convert complex number into polar, use polar() Method."
   ]
  },
  {
   "cell_type": "code",
   "execution_count": 1,
   "id": "943d3af8-097b-4300-85bd-60f154342ba1",
   "metadata": {},
   "outputs": [],
   "source": [
    "import cmath"
   ]
  },
  {
   "cell_type": "code",
   "execution_count": 12,
   "id": "3e2e5125-351e-477d-881b-56889daf21d4",
   "metadata": {},
   "outputs": [
    {
     "data": {
      "text/plain": [
       "(4+6j)"
      ]
     },
     "execution_count": 12,
     "metadata": {},
     "output_type": "execute_result"
    }
   ],
   "source": [
    "x = 4\n",
    "y = 6\n",
    "\n",
    "z = complex (x, y)\n",
    "\n",
    "z"
   ]
  },
  {
   "cell_type": "code",
   "execution_count": 6,
   "id": "7b296344-9e95-40a1-8ca8-3e7615fc0a95",
   "metadata": {},
   "outputs": [
    {
     "name": "stdout",
     "output_type": "stream",
     "text": [
      "The real part of complex number is:  4.0\n"
     ]
    }
   ],
   "source": [
    "print('The real part of complex number is: ',z.real)"
   ]
  },
  {
   "cell_type": "code",
   "execution_count": 7,
   "id": "e7417d51-bcb0-4c72-9e7e-7aed404b74c0",
   "metadata": {},
   "outputs": [
    {
     "name": "stdout",
     "output_type": "stream",
     "text": [
      "The imaginary part of complex is: 6.0\n"
     ]
    }
   ],
   "source": [
    "print('The imaginary part of complex is:',z.imag)"
   ]
  },
  {
   "cell_type": "code",
   "execution_count": 8,
   "id": "56ceefe3-ba31-4429-8c55-4356b482faef",
   "metadata": {},
   "outputs": [
    {
     "name": "stdout",
     "output_type": "stream",
     "text": [
      "The phase of complex number is: 0.982793723247329\n"
     ]
    }
   ],
   "source": [
    "print('The phase of complex number is:',cmath.phase(z))"
   ]
  },
  {
   "cell_type": "code",
   "execution_count": 13,
   "id": "f5131248-d5c9-465e-9ef8-d08954aa6884",
   "metadata": {},
   "outputs": [
    {
     "data": {
      "text/plain": [
       "(7.211102550927978, 0.982793723247329)"
      ]
     },
     "execution_count": 13,
     "metadata": {},
     "output_type": "execute_result"
    }
   ],
   "source": [
    "w=cmath.polar(z)\n",
    "w"
   ]
  },
  {
   "cell_type": "markdown",
   "id": "6557dfcf-1968-429a-b28e-ffd051cff350",
   "metadata": {},
   "source": [
    "### 1. Creating a Complex Number"
   ]
  },
  {
   "cell_type": "code",
   "execution_count": 14,
   "id": "8ef510c0-c994-4575-9d32-d42f1998c17e",
   "metadata": {},
   "outputs": [
    {
     "name": "stdout",
     "output_type": "stream",
     "text": [
      "z1: (2+3j)\n",
      "z2: (4-5j)\n"
     ]
    }
   ],
   "source": [
    "# Creating complex numbers\n",
    "z1 = 2 + 3j\n",
    "z2 = complex(4, -5)  # Using the `complex()` function\n",
    "\n",
    "print(\"z1:\", z1)\n",
    "print(\"z2:\", z2)"
   ]
  },
  {
   "cell_type": "markdown",
   "id": "cf0ef2f4-1c23-435d-84c5-277337332f43",
   "metadata": {},
   "source": [
    "### 2. Accessing Real and Imaginary Parts"
   ]
  },
  {
   "cell_type": "code",
   "execution_count": 15,
   "id": "d8dd224b-aec9-42c4-8df2-3f465947afa6",
   "metadata": {},
   "outputs": [
    {
     "name": "stdout",
     "output_type": "stream",
     "text": [
      "Real part of z1: 2.0\n",
      "Imaginary part of z1: 3.0\n"
     ]
    }
   ],
   "source": [
    "# Access real and imaginary parts\n",
    "print(\"Real part of z1:\", z1.real)\n",
    "print(\"Imaginary part of z1:\", z1.imag)"
   ]
  },
  {
   "cell_type": "markdown",
   "id": "cd187423-37d2-48e8-bef8-9429b4e20a56",
   "metadata": {},
   "source": [
    "### 3. Arithmetic Operations with Complex Numbers"
   ]
  },
  {
   "cell_type": "code",
   "execution_count": 16,
   "id": "62a511ee-4e47-49d2-b420-77404aefcac1",
   "metadata": {},
   "outputs": [
    {
     "name": "stdout",
     "output_type": "stream",
     "text": [
      "z1 + z2: (6-2j)\n",
      "z1 - z2: (-2+8j)\n",
      "z1 * z2: (23+2j)\n",
      "z1 / z2: (-0.17073170731707318+0.5365853658536587j)\n"
     ]
    }
   ],
   "source": [
    "# Addition\n",
    "z3 = z1 + z2\n",
    "print(\"z1 + z2:\", z3)\n",
    "\n",
    "# Subtraction\n",
    "z4 = z1 - z2\n",
    "print(\"z1 - z2:\", z4)\n",
    "\n",
    "# Multiplication\n",
    "z5 = z1 * z2\n",
    "print(\"z1 * z2:\", z5)\n",
    "\n",
    "# Division\n",
    "z6 = z1 / z2\n",
    "print(\"z1 / z2:\", z6)"
   ]
  },
  {
   "cell_type": "markdown",
   "id": "810de921-8b64-435c-8cd7-a1242fb9b375",
   "metadata": {},
   "source": [
    "### 4. Finding the Magnitude and Conjugate"
   ]
  },
  {
   "cell_type": "code",
   "execution_count": 17,
   "id": "1f47c023-c41b-4f37-aeba-d352072531f9",
   "metadata": {},
   "outputs": [
    {
     "name": "stdout",
     "output_type": "stream",
     "text": [
      "Magnitude of z1: 3.605551275463989\n",
      "Conjugate of z1: (2-3j)\n"
     ]
    }
   ],
   "source": [
    "# Magnitude of a complex number\n",
    "magnitude = abs(z1)\n",
    "print(\"Magnitude of z1:\", magnitude)\n",
    "\n",
    "# Conjugate of a complex number\n",
    "conjugate = z1.conjugate()\n",
    "print(\"Conjugate of z1:\", conjugate)\n"
   ]
  },
  {
   "cell_type": "markdown",
   "id": "bdc71eb8-e888-45ba-a71b-df3464c1f8b0",
   "metadata": {},
   "source": [
    "### 5. Using Complex Numbers in Math Functions"
   ]
  },
  {
   "cell_type": "code",
   "execution_count": 18,
   "id": "973380a6-7b17-435b-be7b-fc242a402775",
   "metadata": {},
   "outputs": [
    {
     "name": "stdout",
     "output_type": "stream",
     "text": [
      "Square root of -1: 1j\n",
      "e^(z1): (-7.315110094901103+1.0427436562359045j)\n",
      "sin(z1): (9.15449914691143-4.168906959966565j)\n",
      "cos(z1): (-4.189625690968807-9.109227893755337j)\n"
     ]
    }
   ],
   "source": [
    "import cmath\n",
    "\n",
    "# Square root of a negative number\n",
    "z = cmath.sqrt(-1)\n",
    "print(\"Square root of -1:\", z)\n",
    "\n",
    "# Exponential of a complex number\n",
    "exp_z = cmath.exp(z1)\n",
    "print(\"e^(z1):\", exp_z)\n",
    "\n",
    "# Trigonometric functions\n",
    "sin_z = cmath.sin(z1)\n",
    "cos_z = cmath.cos(z1)\n",
    "print(\"sin(z1):\", sin_z)\n",
    "print(\"cos(z1):\", cos_z)"
   ]
  }
 ],
 "metadata": {
  "kernelspec": {
   "display_name": "Python 3 (ipykernel)",
   "language": "python",
   "name": "python3"
  },
  "language_info": {
   "codemirror_mode": {
    "name": "ipython",
    "version": 3
   },
   "file_extension": ".py",
   "mimetype": "text/x-python",
   "name": "python",
   "nbconvert_exporter": "python",
   "pygments_lexer": "ipython3",
   "version": "3.13.1"
  }
 },
 "nbformat": 4,
 "nbformat_minor": 5
}
