{
 "cells": [
  {
   "cell_type": "code",
   "execution_count": 2,
   "id": "03844a15-bdb8-4c3c-bac0-dde38219a342",
   "metadata": {},
   "outputs": [
    {
     "name": "stdin",
     "output_type": "stream",
     "text": [
      "Enter age:  23\n",
      "Enter sex (M or F):  M\n",
      "Enter marital status (Y or N):  N\n"
     ]
    },
    {
     "name": "stdout",
     "output_type": "stream",
     "text": [
      "You work anywhere.\n"
     ]
    }
   ],
   "source": [
    "age_input = input(\"Enter age: \")\n",
    "sex = input(\"Enter sex (M or F): \").upper()\n",
    "marital_status = input(\"Enter marital status (Y or N): \").upper()\n",
    "\n",
    "if age_input.isdigit():\n",
    "    age = int(age_input)\n",
    "\n",
    "    if sex == 'F':\n",
    "        print(\"You will work only in urban areas.\")\n",
    "    elif sex == 'M':\n",
    "        if 20 <= age <= 40:\n",
    "            print(\"You work anywhere.\")\n",
    "        elif 40 < age <= 60:\n",
    "            print(\"You will work only in urban areas.\")\n",
    "        else:\n",
    "            print(\"ERROR\")\n",
    "    else:\n",
    "        print(\"ERROR\")\n",
    "else:\n",
    "    print(\"ERROR\")"
   ]
  },
  {
   "cell_type": "code",
   "execution_count": null,
   "id": "5e003ca3-7b58-45bd-a84e-5efef594d543",
   "metadata": {},
   "outputs": [],
   "source": []
  }
 ],
 "metadata": {
  "kernelspec": {
   "display_name": "Python 3 (ipykernel)",
   "language": "python",
   "name": "python3"
  },
  "language_info": {
   "codemirror_mode": {
    "name": "ipython",
    "version": 3
   },
   "file_extension": ".py",
   "mimetype": "text/x-python",
   "name": "python",
   "nbconvert_exporter": "python",
   "pygments_lexer": "ipython3",
   "version": "3.13.1"
  }
 },
 "nbformat": 4,
 "nbformat_minor": 5
}
