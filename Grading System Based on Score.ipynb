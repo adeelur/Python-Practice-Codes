{
 "cells": [
  {
   "cell_type": "markdown",
   "id": "46844012-2bd6-4aac-85f7-2863b939b133",
   "metadata": {},
   "source": [
    "# The Grade Calculation Program"
   ]
  },
  {
   "cell_type": "code",
   "execution_count": 4,
   "id": "4f9bfa44-afb8-4fca-8b32-ad09805ce90f",
   "metadata": {},
   "outputs": [
    {
     "name": "stdin",
     "output_type": "stream",
     "text": [
      "Enter Score:  1.0\n"
     ]
    },
    {
     "name": "stdout",
     "output_type": "stream",
     "text": [
      "The Grade is A\n"
     ]
    }
   ],
   "source": [
    "scoreinput = input(\"Enter Score: \")\n",
    "\n",
    "if scoreinput.replace(\".\", \"\", 1).isdigit():\n",
    "    score = float(scoreinput)\n",
    "\n",
    "    if score >=0.0 and score <= 1.0:\n",
    "        if score >= 0.9:\n",
    "            print(\"The Grade is A\")\n",
    "        elif score >= 0.8:\n",
    "            print(\"The Grade is B\")\n",
    "        elif score >= 0.7:\n",
    "            print(\"The Grade is C\")\n",
    "        elif score >= 0.6:\n",
    "            print(\"The Grade is D\")\n",
    "        else:\n",
    "            print(\"Fail\")\n",
    "    else:\n",
    "        print(\"Bad Score\")\n",
    "else:\n",
    "    print(\"Bad Score\")"
   ]
  },
  {
   "cell_type": "code",
   "execution_count": null,
   "id": "44552b29-4ddb-4bf7-8815-fbc70fee81ab",
   "metadata": {},
   "outputs": [],
   "source": [
    "This program takes a **numerical** score as input and determines the corresponding letter grade based on a predefined grading scale. It also includes input validation to ensure only valid numerical scores are processed."
   ]
  }
 ],
 "metadata": {
  "kernelspec": {
   "display_name": "Python 3 (ipykernel)",
   "language": "python",
   "name": "python3"
  },
  "language_info": {
   "codemirror_mode": {
    "name": "ipython",
    "version": 3
   },
   "file_extension": ".py",
   "mimetype": "text/x-python",
   "name": "python",
   "nbconvert_exporter": "python",
   "pygments_lexer": "ipython3",
   "version": "3.13.1"
  }
 },
 "nbformat": 4,
 "nbformat_minor": 5
}
