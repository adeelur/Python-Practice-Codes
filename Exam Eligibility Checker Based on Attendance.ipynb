{
 "cells": [
  {
   "cell_type": "code",
   "execution_count": 1,
   "id": "8f13c72e-b930-42ac-9c69-704566694993",
   "metadata": {},
   "outputs": [
    {
     "name": "stdin",
     "output_type": "stream",
     "text": [
      "Enter the number of classes held:  30\n",
      "Enter the number of classes attended:  27\n"
     ]
    },
    {
     "name": "stdout",
     "output_type": "stream",
     "text": [
      "Percentage of classes attended: 90.00%\n",
      "The student is allowed to sit in the exam.\n"
     ]
    }
   ],
   "source": [
    "classes_held_input = input(\"Enter the number of classes held: \")\n",
    "classes_attended_input = input(\"Enter the number of classes attended: \")\n",
    "\n",
    "if classes_held_input.isdigit() and classes_attended_input.isdigit():\n",
    "    classes_held = int(classes_held_input)\n",
    "    classes_attended = int(classes_attended_input)\n",
    "\n",
    "    if classes_held > 0:\n",
    "        percentage_attended = (classes_attended / classes_held) * 100\n",
    "\n",
    "        print(f\"Percentage of classes attended: {percentage_attended:.2f}%\")\n",
    "\n",
    "        if percentage_attended >= 75:\n",
    "            print(\"The student is allowed to sit in the exam.\")\n",
    "        else:\n",
    "            print(\"The student is not allowed to sit in the exam.\")\n",
    "    else:\n",
    "        print(\"Number of classes held must be greater than 0.\")\n",
    "else:\n",
    "    print(\"Invalid input. Please enter valid numbers.\")"
   ]
  }
 ],
 "metadata": {
  "kernelspec": {
   "display_name": "Python 3 (ipykernel)",
   "language": "python",
   "name": "python3"
  },
  "language_info": {
   "codemirror_mode": {
    "name": "ipython",
    "version": 3
   },
   "file_extension": ".py",
   "mimetype": "text/x-python",
   "name": "python",
   "nbconvert_exporter": "python",
   "pygments_lexer": "ipython3",
   "version": "3.13.1"
  }
 },
 "nbformat": 4,
 "nbformat_minor": 5
}
