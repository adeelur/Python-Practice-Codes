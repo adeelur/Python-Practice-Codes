{
 "cells": [
  {
   "cell_type": "markdown",
   "id": "02b87b89-40b7-46c6-aa44-47477e6bdc6a",
   "metadata": {},
   "source": [
    "# Tuples"
   ]
  },
  {
   "cell_type": "markdown",
   "id": "1cd3cae1-8eb9-4e0c-af52-56c2ec4d14f3",
   "metadata": {},
   "source": [
    "1. Tuple is similar to List except that the objects in tuple are immutable which means we cannot\n",
    "change the elements of a tuple once assigned.\n",
    "2. When we do not want to change the data over time, tuple is a preferred data type.\n",
    "3. Iterating over the elements of a tuple is faster compared to iterating over a list."
   ]
  },
  {
   "cell_type": "markdown",
   "id": "66007406-55be-414a-bef1-9eb589329f0c",
   "metadata": {},
   "source": [
    "### Tuple Creation"
   ]
  },
  {
   "cell_type": "code",
   "execution_count": 1,
   "id": "41f340ef-b9cb-4490-ad65-b8598a844281",
   "metadata": {},
   "outputs": [],
   "source": [
    "tup1 = () # Empty tuple\n",
    "tup2 = (10,30,60) # tuple of integers numbers\n",
    "tup3 = (10.77,30.66,60.89) # tuple of float numbers\n",
    "tup4 = ('one','two' , \"three\") # tuple of strings\n",
    "tup5 = ('Asif', 25 ,(50, 100),(150, 90)) # Nested tuples\n",
    "tup6 = (100, 'Asif', 17.765) # Tuple of mixed data types\n",
    "tup7 = ('Asif', 25 ,[50, 100],[150, 90] , {'John' , 'David'} , (99,22,33))"
   ]
  },
  {
   "cell_type": "code",
   "execution_count": 2,
   "id": "05b014a7-0760-4fb2-9106-3f935a4e1c3c",
   "metadata": {},
   "outputs": [
    {
     "data": {
      "text/plain": [
       "6"
      ]
     },
     "execution_count": 2,
     "metadata": {},
     "output_type": "execute_result"
    }
   ],
   "source": [
    "len(tup7) #Length of list"
   ]
  },
  {
   "cell_type": "markdown",
   "id": "30e3fa46-aadd-48d2-b257-1403ad297b51",
   "metadata": {},
   "source": [
    "### Tuple Indexing"
   ]
  },
  {
   "cell_type": "code",
   "execution_count": 3,
   "id": "13abcd69-0c52-44ff-9a44-f62ea66bb978",
   "metadata": {},
   "outputs": [
    {
     "data": {
      "text/plain": [
       "10"
      ]
     },
     "execution_count": 3,
     "metadata": {},
     "output_type": "execute_result"
    }
   ],
   "source": [
    "tup2[0] # Retreive first element of the tuple"
   ]
  },
  {
   "cell_type": "code",
   "execution_count": 4,
   "id": "cf613c28-a5f3-4f37-8183-66d9345c4945",
   "metadata": {},
   "outputs": [
    {
     "data": {
      "text/plain": [
       "'one'"
      ]
     },
     "execution_count": 4,
     "metadata": {},
     "output_type": "execute_result"
    }
   ],
   "source": [
    "tup4[0] # Retreive first element of the tuple"
   ]
  },
  {
   "cell_type": "code",
   "execution_count": 5,
   "id": "87c360c5-928f-4133-a1d3-89e884b0c178",
   "metadata": {},
   "outputs": [
    {
     "data": {
      "text/plain": [
       "'o'"
      ]
     },
     "execution_count": 5,
     "metadata": {},
     "output_type": "execute_result"
    }
   ],
   "source": [
    "tup4[0][0] # Nested indexing - Access the first character of the first tuple element"
   ]
  },
  {
   "cell_type": "code",
   "execution_count": 6,
   "id": "65d49e63-ec25-43b5-b14d-01cb9a577efa",
   "metadata": {},
   "outputs": [
    {
     "data": {
      "text/plain": [
       "'three'"
      ]
     },
     "execution_count": 6,
     "metadata": {},
     "output_type": "execute_result"
    }
   ],
   "source": [
    "tup4[-1] # Last item of the tuple"
   ]
  },
  {
   "cell_type": "code",
   "execution_count": 7,
   "id": "5377b212-8a07-4a95-9290-3d908fd96282",
   "metadata": {},
   "outputs": [
    {
     "data": {
      "text/plain": [
       "(150, 90)"
      ]
     },
     "execution_count": 7,
     "metadata": {},
     "output_type": "execute_result"
    }
   ],
   "source": [
    "tup5[-1] # Last item of the tuple"
   ]
  },
  {
   "cell_type": "markdown",
   "id": "457a50a7-1a44-41a8-8102-a2d477354480",
   "metadata": {},
   "source": [
    "### Tuple Slicing"
   ]
  },
  {
   "cell_type": "code",
   "execution_count": 8,
   "id": "294b1473-6add-4a3f-925c-100c9f444cc3",
   "metadata": {},
   "outputs": [],
   "source": [
    "mytuple = ('one' , 'two' , 'three' , 'four' , 'five' , 'six' , 'seven' , 'eight')"
   ]
  },
  {
   "cell_type": "code",
   "execution_count": 9,
   "id": "3a486653-6f23-41b5-8502-d4bc9573524a",
   "metadata": {},
   "outputs": [
    {
     "data": {
      "text/plain": [
       "('one', 'two', 'three')"
      ]
     },
     "execution_count": 9,
     "metadata": {},
     "output_type": "execute_result"
    }
   ],
   "source": [
    "mytuple[0:3] # Return all items from 0th to 3rd index location excluding the item"
   ]
  },
  {
   "cell_type": "code",
   "execution_count": 10,
   "id": "9cec9624-db83-407f-9040-7b95e2021628",
   "metadata": {},
   "outputs": [
    {
     "data": {
      "text/plain": [
       "('three', 'four', 'five')"
      ]
     },
     "execution_count": 10,
     "metadata": {},
     "output_type": "execute_result"
    }
   ],
   "source": [
    "mytuple[2:5] # List all items from 2nd to 5th index location excluding the item"
   ]
  },
  {
   "cell_type": "code",
   "execution_count": 11,
   "id": "44e156ff-79ee-41f6-85b8-82ffa7d98710",
   "metadata": {},
   "outputs": [
    {
     "data": {
      "text/plain": [
       "('one', 'two', 'three')"
      ]
     },
     "execution_count": 11,
     "metadata": {},
     "output_type": "execute_result"
    }
   ],
   "source": [
    "mytuple[:3] # Return first three items"
   ]
  },
  {
   "cell_type": "code",
   "execution_count": 12,
   "id": "76cf375f-f270-4b22-a4a6-2407d80f6f4d",
   "metadata": {},
   "outputs": [
    {
     "data": {
      "text/plain": [
       "('one', 'two')"
      ]
     },
     "execution_count": 12,
     "metadata": {},
     "output_type": "execute_result"
    }
   ],
   "source": [
    "mytuple[:2] # Return first two items"
   ]
  },
  {
   "cell_type": "code",
   "execution_count": 13,
   "id": "3c943c11-7aec-480a-923e-ccc8d958cf26",
   "metadata": {},
   "outputs": [
    {
     "data": {
      "text/plain": [
       "('six', 'seven', 'eight')"
      ]
     },
     "execution_count": 13,
     "metadata": {},
     "output_type": "execute_result"
    }
   ],
   "source": [
    "mytuple[-3:] # Return last three items"
   ]
  },
  {
   "cell_type": "code",
   "execution_count": 14,
   "id": "e842c96b-2326-4d16-ade0-270d0e9f80b8",
   "metadata": {},
   "outputs": [
    {
     "data": {
      "text/plain": [
       "('seven', 'eight')"
      ]
     },
     "execution_count": 14,
     "metadata": {},
     "output_type": "execute_result"
    }
   ],
   "source": [
    "mytuple[-2:] # Return last two items"
   ]
  },
  {
   "cell_type": "code",
   "execution_count": 15,
   "id": "5209f394-6f33-45c5-b72b-5518596123b5",
   "metadata": {},
   "outputs": [
    {
     "data": {
      "text/plain": [
       "'eight'"
      ]
     },
     "execution_count": 15,
     "metadata": {},
     "output_type": "execute_result"
    }
   ],
   "source": [
    "mytuple[-1] # Return last item of the tuple"
   ]
  },
  {
   "cell_type": "code",
   "execution_count": 16,
   "id": "11386409-e686-4ebd-8db8-bed47dd20b04",
   "metadata": {},
   "outputs": [
    {
     "data": {
      "text/plain": [
       "('one', 'two', 'three', 'four', 'five', 'six', 'seven', 'eight')"
      ]
     },
     "execution_count": 16,
     "metadata": {},
     "output_type": "execute_result"
    }
   ],
   "source": [
    "mytuple[:] # Return whole tuple"
   ]
  },
  {
   "cell_type": "markdown",
   "id": "2673c75c-0769-41bc-9faa-aa0aacfd0c16",
   "metadata": {},
   "source": [
    "### Remove & Change Items"
   ]
  },
  {
   "cell_type": "code",
   "execution_count": 17,
   "id": "00f721f5-ee28-4c15-9315-35da0db0e2ee",
   "metadata": {},
   "outputs": [
    {
     "data": {
      "text/plain": [
       "('one', 'two', 'three', 'four', 'five', 'six', 'seven', 'eight')"
      ]
     },
     "execution_count": 17,
     "metadata": {},
     "output_type": "execute_result"
    }
   ],
   "source": [
    "mytuple"
   ]
  },
  {
   "cell_type": "code",
   "execution_count": 18,
   "id": "2109c2b7-a5f3-419c-925f-df52564d8358",
   "metadata": {},
   "outputs": [
    {
     "ename": "TypeError",
     "evalue": "'tuple' object doesn't support item deletion",
     "output_type": "error",
     "traceback": [
      "\u001b[1;31m---------------------------------------------------------------------------\u001b[0m",
      "\u001b[1;31mTypeError\u001b[0m                                 Traceback (most recent call last)",
      "Cell \u001b[1;32mIn[18], line 1\u001b[0m\n\u001b[1;32m----> 1\u001b[0m \u001b[38;5;28;01mdel\u001b[39;00m \u001b[43mmytuple\u001b[49m\u001b[43m[\u001b[49m\u001b[38;5;241;43m0\u001b[39;49m\u001b[43m]\u001b[49m \u001b[38;5;66;03m# Tuples are immutable which means we can't DELETE tuple items\u001b[39;00m\n",
      "\u001b[1;31mTypeError\u001b[0m: 'tuple' object doesn't support item deletion"
     ]
    }
   ],
   "source": [
    "del mytuple[0] # Tuples are immutable which means we can't DELETE tuple items"
   ]
  },
  {
   "cell_type": "code",
   "execution_count": 19,
   "id": "1dab6a14-9c64-40d0-aa63-db6d832e076d",
   "metadata": {},
   "outputs": [
    {
     "ename": "TypeError",
     "evalue": "'tuple' object does not support item assignment",
     "output_type": "error",
     "traceback": [
      "\u001b[1;31m---------------------------------------------------------------------------\u001b[0m",
      "\u001b[1;31mTypeError\u001b[0m                                 Traceback (most recent call last)",
      "Cell \u001b[1;32mIn[19], line 1\u001b[0m\n\u001b[1;32m----> 1\u001b[0m \u001b[43mmytuple\u001b[49m\u001b[43m[\u001b[49m\u001b[38;5;241;43m0\u001b[39;49m\u001b[43m]\u001b[49m \u001b[38;5;241m=\u001b[39m \u001b[38;5;241m1\u001b[39m \u001b[38;5;66;03m# Tuples are immutable which means we can't CHANGE tuple items\u001b[39;00m\n",
      "\u001b[1;31mTypeError\u001b[0m: 'tuple' object does not support item assignment"
     ]
    }
   ],
   "source": [
    "mytuple[0] = 1 # Tuples are immutable which means we can't CHANGE tuple items"
   ]
  },
  {
   "cell_type": "code",
   "execution_count": 20,
   "id": "9c73905b-18a4-41f5-a125-957bed5a08d3",
   "metadata": {},
   "outputs": [],
   "source": [
    "del mytuple # Deleting entire tuple object is possible"
   ]
  },
  {
   "cell_type": "markdown",
   "id": "700cb1d3-342b-477c-b369-19f7719b8f63",
   "metadata": {},
   "source": [
    "### Loop through a tuple"
   ]
  },
  {
   "cell_type": "code",
   "execution_count": 22,
   "id": "8f5bca09-417f-4e86-8a33-c84f087a4dcd",
   "metadata": {},
   "outputs": [],
   "source": [
    "mytuple = ('one' , 'two' , 'three' , 'four' , 'five' , 'six' , 'seven' , 'eight')"
   ]
  },
  {
   "cell_type": "code",
   "execution_count": 23,
   "id": "80d84824-021b-4aa6-896c-e086bb6ecc16",
   "metadata": {},
   "outputs": [
    {
     "data": {
      "text/plain": [
       "('one', 'two', 'three', 'four', 'five', 'six', 'seven', 'eight')"
      ]
     },
     "execution_count": 23,
     "metadata": {},
     "output_type": "execute_result"
    }
   ],
   "source": [
    "mytuple\n"
   ]
  },
  {
   "cell_type": "code",
   "execution_count": 24,
   "id": "63e05143-6011-465d-8ba3-76a47183a624",
   "metadata": {},
   "outputs": [
    {
     "name": "stdout",
     "output_type": "stream",
     "text": [
      "one\n",
      "two\n",
      "three\n",
      "four\n",
      "five\n",
      "six\n",
      "seven\n",
      "eight\n"
     ]
    }
   ],
   "source": [
    "for i in mytuple:\n",
    "    print(i)"
   ]
  },
  {
   "cell_type": "code",
   "execution_count": 25,
   "id": "1e121d93-c17a-49bc-81ac-5cc9ddc8d1d6",
   "metadata": {},
   "outputs": [
    {
     "name": "stdout",
     "output_type": "stream",
     "text": [
      "(0, 'one')\n",
      "(1, 'two')\n",
      "(2, 'three')\n",
      "(3, 'four')\n",
      "(4, 'five')\n",
      "(5, 'six')\n",
      "(6, 'seven')\n",
      "(7, 'eight')\n"
     ]
    }
   ],
   "source": [
    "for i in enumerate(mytuple):\n",
    "    print(i)"
   ]
  },
  {
   "cell_type": "markdown",
   "id": "a8c26106-85e1-4a04-bbe6-9523fa8c95e4",
   "metadata": {},
   "source": [
    "### Count"
   ]
  },
  {
   "cell_type": "code",
   "execution_count": 26,
   "id": "88d33862-985e-4863-85c0-e547e0276f3b",
   "metadata": {},
   "outputs": [],
   "source": [
    "mytuple1 =('one', 'two', 'three', 'four', 'one', 'one', 'two', 'three')"
   ]
  },
  {
   "cell_type": "code",
   "execution_count": 27,
   "id": "2bad8252-7ac1-4b07-9285-529b401c77c5",
   "metadata": {},
   "outputs": [
    {
     "data": {
      "text/plain": [
       "3"
      ]
     },
     "execution_count": 27,
     "metadata": {},
     "output_type": "execute_result"
    }
   ],
   "source": [
    "mytuple1.count('one') # Number of times item \"one\" occurred in the tuple."
   ]
  },
  {
   "cell_type": "code",
   "execution_count": 28,
   "id": "0a044d0e-dee8-4a70-9526-5d225cfa510e",
   "metadata": {},
   "outputs": [
    {
     "data": {
      "text/plain": [
       "2"
      ]
     },
     "execution_count": 28,
     "metadata": {},
     "output_type": "execute_result"
    }
   ],
   "source": [
    "mytuple1.count('two') # Occurence of item 'two' in the tuple"
   ]
  },
  {
   "cell_type": "code",
   "execution_count": 29,
   "id": "e8bade9a-1740-4dc6-82d7-32ed0d1e0d87",
   "metadata": {},
   "outputs": [
    {
     "data": {
      "text/plain": [
       "1"
      ]
     },
     "execution_count": 29,
     "metadata": {},
     "output_type": "execute_result"
    }
   ],
   "source": [
    "mytuple1.count('four') #Occurence of item 'four' in the tuple"
   ]
  },
  {
   "cell_type": "markdown",
   "id": "73387380-6362-474e-b39e-c246280b1322",
   "metadata": {},
   "source": [
    "### Tuple Membership"
   ]
  },
  {
   "cell_type": "code",
   "execution_count": 30,
   "id": "55649071-2791-4339-a824-a770b45b665f",
   "metadata": {},
   "outputs": [
    {
     "data": {
      "text/plain": [
       "('one', 'two', 'three', 'four', 'five', 'six', 'seven', 'eight')"
      ]
     },
     "execution_count": 30,
     "metadata": {},
     "output_type": "execute_result"
    }
   ],
   "source": [
    "mytuple"
   ]
  },
  {
   "cell_type": "code",
   "execution_count": 31,
   "id": "e7ca4a1b-34b7-4ae3-9ab7-d39fcade27f3",
   "metadata": {},
   "outputs": [
    {
     "data": {
      "text/plain": [
       "True"
      ]
     },
     "execution_count": 31,
     "metadata": {},
     "output_type": "execute_result"
    }
   ],
   "source": [
    "'one' in mytuple # Check if 'one' exist in the list"
   ]
  },
  {
   "cell_type": "code",
   "execution_count": 32,
   "id": "51222747-8eb4-4318-ab45-6b4195429e1f",
   "metadata": {},
   "outputs": [
    {
     "data": {
      "text/plain": [
       "False"
      ]
     },
     "execution_count": 32,
     "metadata": {},
     "output_type": "execute_result"
    }
   ],
   "source": [
    "'ten' in mytuple # Check if 'ten' exist in the list"
   ]
  },
  {
   "cell_type": "code",
   "execution_count": 33,
   "id": "8100981a-3f04-487f-9a61-126c1ed2ea58",
   "metadata": {},
   "outputs": [
    {
     "name": "stdout",
     "output_type": "stream",
     "text": [
      "Three is present in the tuple\n"
     ]
    }
   ],
   "source": [
    "if 'three' in mytuple: # Check if 'three' exist in the list\n",
    "    print('Three is present in the tuple')\n",
    "else:\n",
    "    print('Three is not present in the tuple')"
   ]
  },
  {
   "cell_type": "code",
   "execution_count": 34,
   "id": "7b4c4276-7f8c-4864-b6a0-7d4ffc030ea4",
   "metadata": {},
   "outputs": [
    {
     "name": "stdout",
     "output_type": "stream",
     "text": [
      "eleven is not present in the tuple\n"
     ]
    }
   ],
   "source": [
    "if 'eleven' in mytuple: # Check if 'eleven' exist in the list\n",
    "    print('eleven is present in the tuple')\n",
    "else:\n",
    "    print('eleven is not present in the tuple')"
   ]
  },
  {
   "cell_type": "markdown",
   "id": "4726eaf9-3d04-41b1-9769-1a8f4e1ec92e",
   "metadata": {},
   "source": [
    "### Index Position"
   ]
  },
  {
   "cell_type": "code",
   "execution_count": 35,
   "id": "aa3a02ec-06d8-40c8-ab46-86045a630199",
   "metadata": {},
   "outputs": [
    {
     "data": {
      "text/plain": [
       "('one', 'two', 'three', 'four', 'five', 'six', 'seven', 'eight')"
      ]
     },
     "execution_count": 35,
     "metadata": {},
     "output_type": "execute_result"
    }
   ],
   "source": [
    "mytuple"
   ]
  },
  {
   "cell_type": "code",
   "execution_count": 36,
   "id": "8c8a4d4a-c0e1-4c96-84a4-9238ff5cd2bc",
   "metadata": {},
   "outputs": [
    {
     "data": {
      "text/plain": [
       "0"
      ]
     },
     "execution_count": 36,
     "metadata": {},
     "output_type": "execute_result"
    }
   ],
   "source": [
    "mytuple.index('one') # Index of first element equal to 'one'"
   ]
  },
  {
   "cell_type": "code",
   "execution_count": 37,
   "id": "44fd9d09-3176-4058-ba2a-0f0cf2229a57",
   "metadata": {},
   "outputs": [
    {
     "data": {
      "text/plain": [
       "4"
      ]
     },
     "execution_count": 37,
     "metadata": {},
     "output_type": "execute_result"
    }
   ],
   "source": [
    "mytuple.index('five') # Index of first element equal to 'five'"
   ]
  },
  {
   "cell_type": "code",
   "execution_count": 38,
   "id": "f665583a-a8b3-4cd3-8aa0-1c3ccfe6e06e",
   "metadata": {},
   "outputs": [
    {
     "data": {
      "text/plain": [
       "('one', 'two', 'three', 'four', 'one', 'one', 'two', 'three')"
      ]
     },
     "execution_count": 38,
     "metadata": {},
     "output_type": "execute_result"
    }
   ],
   "source": [
    "mytuple1"
   ]
  },
  {
   "cell_type": "code",
   "execution_count": 39,
   "id": "aa2c6896-8c8d-47fa-9b82-b061324e1662",
   "metadata": {},
   "outputs": [
    {
     "data": {
      "text/plain": [
       "0"
      ]
     },
     "execution_count": 39,
     "metadata": {},
     "output_type": "execute_result"
    }
   ],
   "source": [
    "mytuple1.index('one') # Index of first element equal to 'one'"
   ]
  },
  {
   "cell_type": "markdown",
   "id": "65f0017b-31bf-404e-b56f-eed97bc2a669",
   "metadata": {},
   "source": [
    "### Sorting"
   ]
  },
  {
   "cell_type": "code",
   "execution_count": 40,
   "id": "fd434e6e-b97f-4a43-9724-2b485e2d3f9e",
   "metadata": {},
   "outputs": [],
   "source": [
    "mytuple2 = (43,67,99,12,6,90,67)"
   ]
  },
  {
   "cell_type": "code",
   "execution_count": 41,
   "id": "6fb2923e-49e4-4e28-a3cf-9ca53225e7d8",
   "metadata": {},
   "outputs": [
    {
     "data": {
      "text/plain": [
       "[6, 12, 43, 67, 67, 90, 99]"
      ]
     },
     "execution_count": 41,
     "metadata": {},
     "output_type": "execute_result"
    }
   ],
   "source": [
    "sorted(mytuple2) # Returns a new sorted list and doesn't change original tuple"
   ]
  },
  {
   "cell_type": "code",
   "execution_count": 42,
   "id": "7169cf82-b752-42b5-9669-037a5415b384",
   "metadata": {},
   "outputs": [
    {
     "data": {
      "text/plain": [
       "[99, 90, 67, 67, 43, 12, 6]"
      ]
     },
     "execution_count": 42,
     "metadata": {},
     "output_type": "execute_result"
    }
   ],
   "source": [
    "sorted(mytuple2, reverse=True) # Sort in descending order"
   ]
  }
 ],
 "metadata": {
  "kernelspec": {
   "display_name": "Python 3 (ipykernel)",
   "language": "python",
   "name": "python3"
  },
  "language_info": {
   "codemirror_mode": {
    "name": "ipython",
    "version": 3
   },
   "file_extension": ".py",
   "mimetype": "text/x-python",
   "name": "python",
   "nbconvert_exporter": "python",
   "pygments_lexer": "ipython3",
   "version": "3.13.1"
  }
 },
 "nbformat": 4,
 "nbformat_minor": 5
}
