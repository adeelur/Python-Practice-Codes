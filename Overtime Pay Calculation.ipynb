{
 "cells": [
  {
   "cell_type": "markdown",
   "id": "5cd3b5b2-0ee4-4cf3-b207-f8269d1e1bf9",
   "metadata": {},
   "source": [
    "# Overtime Pay Calculation: Adjusting Hourly Rate for Extra Hours"
   ]
  },
  {
   "cell_type": "code",
   "execution_count": 3,
   "id": "dd8f041c-3a72-4b41-a3ab-87d10e747ecb",
   "metadata": {},
   "outputs": [
    {
     "name": "stdout",
     "output_type": "stream",
     "text": [
      "The Total Pay rate is:475.0\n"
     ]
    }
   ],
   "source": [
    "def calculate(hours, rate):\n",
    "    if hours <= 40:\n",
    "        pay = hours * rate\n",
    "    else:\n",
    "        pay = (40 * rate) + (hours - 40) * (rate * 1.5)\n",
    "\n",
    "    print(\"The Total Pay rate is:\" + str(pay))\n",
    "calculate(45, 10)"
   ]
  },
  {
   "cell_type": "markdown",
   "id": "c3f3a18d-4d6e-4950-8a79-1838d7af3694",
   "metadata": {},
   "source": [
    "### In many workplaces, employees are paid a standard hourly rate for their work. However, if they work beyond a certain threshold (commonly 40 hours per week), they are entitled to overtime pay, which is usually 1.5 times their regular hourly rate."
   ]
  }
 ],
 "metadata": {
  "kernelspec": {
   "display_name": "Python 3 (ipykernel)",
   "language": "python",
   "name": "python3"
  },
  "language_info": {
   "codemirror_mode": {
    "name": "ipython",
    "version": 3
   },
   "file_extension": ".py",
   "mimetype": "text/x-python",
   "name": "python",
   "nbconvert_exporter": "python",
   "pygments_lexer": "ipython3",
   "version": "3.13.1"
  }
 },
 "nbformat": 4,
 "nbformat_minor": 5
}
